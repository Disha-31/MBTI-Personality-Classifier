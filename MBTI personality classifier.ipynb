{
 "cells": [
  {
   "cell_type": "markdown",
   "metadata": {},
   "source": [
    "# MBTI Personality Classifier\n",
    "\n",
    "This programme will classify people into mbti personality types based on their past 50 posts on social media using the basic naivebayesclassifier"
   ]
  },
  {
   "cell_type": "code",
   "execution_count": 1,
   "metadata": {},
   "outputs": [],
   "source": [
    "import pandas as pd\n",
    "import numpy as np\n",
    "import matplotlib.pyplot as plt\n",
    "import nltk\n",
    "import string\n",
    "from nltk.classify import NaiveBayesClassifier"
   ]
  },
  {
   "cell_type": "markdown",
   "metadata": {},
   "source": [
    "### Importing the dataset"
   ]
  },
  {
   "cell_type": "code",
   "execution_count": 2,
   "metadata": {},
   "outputs": [
    {
     "data": {
      "text/html": [
       "<div>\n",
       "<style scoped>\n",
       "    .dataframe tbody tr th:only-of-type {\n",
       "        vertical-align: middle;\n",
       "    }\n",
       "\n",
       "    .dataframe tbody tr th {\n",
       "        vertical-align: top;\n",
       "    }\n",
       "\n",
       "    .dataframe thead th {\n",
       "        text-align: right;\n",
       "    }\n",
       "</style>\n",
       "<table border=\"1\" class=\"dataframe\">\n",
       "  <thead>\n",
       "    <tr style=\"text-align: right;\">\n",
       "      <th></th>\n",
       "      <th>type</th>\n",
       "      <th>posts</th>\n",
       "    </tr>\n",
       "  </thead>\n",
       "  <tbody>\n",
       "    <tr>\n",
       "      <th>8670</th>\n",
       "      <td>ISFP</td>\n",
       "      <td>'https://www.youtube.com/watch?v=t8edHB_h908||...</td>\n",
       "    </tr>\n",
       "    <tr>\n",
       "      <th>8671</th>\n",
       "      <td>ENFP</td>\n",
       "      <td>'So...if this thread already exists someplace ...</td>\n",
       "    </tr>\n",
       "    <tr>\n",
       "      <th>8672</th>\n",
       "      <td>INTP</td>\n",
       "      <td>'So many questions when i do these things.  I ...</td>\n",
       "    </tr>\n",
       "    <tr>\n",
       "      <th>8673</th>\n",
       "      <td>INFP</td>\n",
       "      <td>'I am very conflicted right now when it comes ...</td>\n",
       "    </tr>\n",
       "    <tr>\n",
       "      <th>8674</th>\n",
       "      <td>INFP</td>\n",
       "      <td>'It has been too long since I have been on per...</td>\n",
       "    </tr>\n",
       "  </tbody>\n",
       "</table>\n",
       "</div>"
      ],
      "text/plain": [
       "      type                                              posts\n",
       "8670  ISFP  'https://www.youtube.com/watch?v=t8edHB_h908||...\n",
       "8671  ENFP  'So...if this thread already exists someplace ...\n",
       "8672  INTP  'So many questions when i do these things.  I ...\n",
       "8673  INFP  'I am very conflicted right now when it comes ...\n",
       "8674  INFP  'It has been too long since I have been on per..."
      ]
     },
     "execution_count": 2,
     "metadata": {},
     "output_type": "execute_result"
    }
   ],
   "source": [
    "data_set = pd.read_csv(\"mbti_1.csv\")\n",
    "data_set.tail()"
   ]
  },
  {
   "cell_type": "markdown",
   "metadata": {},
   "source": [
    "### Checking the dataset for missing values"
   ]
  },
  {
   "cell_type": "code",
   "execution_count": 3,
   "metadata": {},
   "outputs": [
    {
     "data": {
      "text/plain": [
       "type     False\n",
       "posts    False\n",
       "dtype: bool"
      ]
     },
     "execution_count": 3,
     "metadata": {},
     "output_type": "execute_result"
    }
   ],
   "source": [
    "data_set.isnull().any()"
   ]
  },
  {
   "cell_type": "markdown",
   "metadata": {},
   "source": [
    "## Exploring the dataset"
   ]
  },
  {
   "cell_type": "markdown",
   "metadata": {},
   "source": [
    "The size of the dataset"
   ]
  },
  {
   "cell_type": "code",
   "execution_count": 4,
   "metadata": {},
   "outputs": [
    {
     "data": {
      "text/plain": [
       "(8675, 2)"
      ]
     },
     "execution_count": 4,
     "metadata": {},
     "output_type": "execute_result"
    }
   ],
   "source": [
    "data_set.shape"
   ]
  },
  {
   "cell_type": "markdown",
   "metadata": {},
   "source": [
    "Explroing the posts in posts field"
   ]
  },
  {
   "cell_type": "code",
   "execution_count": 5,
   "metadata": {
    "scrolled": true
   },
   "outputs": [
    {
     "data": {
      "text/plain": [
       "[\"'http://www.youtube.com/watch?v=qsXHcwe3krw\",\n",
       " 'http://41.media.tumblr.com/tumblr_lfouy03PMA1qa1rooo1_500.jpg',\n",
       " 'enfp and intj moments  https://www.youtube.com/watch?v=iz7lE1g4XM4  sportscenter not top ten plays  https://www.youtube.com/watch?v=uCdfze1etec  pranks',\n",
       " 'What has been the most life-changing experience in your life?',\n",
       " 'http://www.youtube.com/watch?v=vXZeYwwRDw8   http://www.youtube.com/watch?v=u8ejam5DP3E  On repeat for most of today.',\n",
       " 'May the PerC Experience immerse you.',\n",
       " 'The last thing my INFJ friend posted on his facebook before committing suicide the next day. Rest in peace~   http://vimeo.com/22842206',\n",
       " \"Hello ENFJ7. Sorry to hear of your distress. It's only natural for a relationship to not be perfection all the time in every moment of existence. Try to figure the hard times as times of growth, as...\",\n",
       " '84389  84390  http://wallpaperpassion.com/upload/23700/friendship-boy-and-girl-wallpaper.jpg  http://assets.dornob.com/wp-content/uploads/2010/04/round-home-design.jpg ...',\n",
       " 'Welcome and stuff.',\n",
       " 'http://playeressence.com/wp-content/uploads/2013/08/RED-red-the-pokemon-master-32560474-450-338.jpg  Game. Set. Match.',\n",
       " \"Prozac, wellbrutin, at least thirty minutes of moving your legs (and I don't mean moving them while sitting in your same desk chair), weed in moderation (maybe try edibles as a healthier alternative...\",\n",
       " \"Basically come up with three items you've determined that each type (or whichever types you want to do) would more than likely use, given each types' cognitive functions and whatnot, when left by...\",\n",
       " 'All things in moderation.  Sims is indeed a video game, and a good one at that. Note: a good one at that is somewhat subjective in that I am not completely promoting the death of any given Sim...',\n",
       " 'Dear ENFP:  What were your favorite video games growing up and what are your now, current favorite video games? :cool:',\n",
       " 'https://www.youtube.com/watch?v=QyPqT8umzmY',\n",
       " 'It appears to be too late. :sad:',\n",
       " \"There's someone out there for everyone.\",\n",
       " 'Wait... I thought confidence was a good thing.',\n",
       " \"I just cherish the time of solitude b/c i revel within my inner world more whereas most other time i'd be workin... just enjoy the me time while you can. Don't worry, people will always be around to...\",\n",
       " \"Yo entp ladies... if you're into a complimentary personality,well, hey.\",\n",
       " '... when your main social outlet is xbox live conversations and even then you verbally fatigue quickly.',\n",
       " 'http://www.youtube.com/watch?v=gDhy7rdfm14  I really dig the part from 1:46 to 2:50',\n",
       " 'http://www.youtube.com/watch?v=msqXffgh7b8',\n",
       " 'Banned because this thread requires it of me.',\n",
       " 'Get high in backyard, roast and eat marshmellows in backyard while conversing over something intellectual, followed by massages and kisses.',\n",
       " 'http://www.youtube.com/watch?v=Mw7eoU3BMbE',\n",
       " 'http://www.youtube.com/watch?v=4V2uYORhQOk',\n",
       " 'http://www.youtube.com/watch?v=SlVmgFQQ0TI',\n",
       " \"Banned for too many b's in that sentence. How could you! Think of the B!\",\n",
       " 'Banned for watching movies in the corner with the dunces.',\n",
       " 'Banned because Health class clearly taught you nothing about peer pressure.',\n",
       " 'Banned for a whole host of reasons!',\n",
       " 'http://www.youtube.com/watch?v=IRcrv41hgz4',\n",
       " \"1) Two baby deer on left and right munching on a beetle in the middle.  2) Using their own blood, two cavemen diary today's latest happenings on their designated cave diary wall.  3) I see it as...\",\n",
       " 'a pokemon world  an infj society  everyone becomes an optimist',\n",
       " '49142',\n",
       " 'http://www.youtube.com/watch?v=ZRCEq_JFeFM',\n",
       " 'http://discovermagazine.com/2012/jul-aug/20-things-you-didnt-know-about-deserts/desert.jpg',\n",
       " 'http://oyster.ignimgs.com/mediawiki/apis.ign.com/pokemon-silver-version/d/dd/Ditto.gif',\n",
       " 'http://www.serebii.net/potw-dp/Scizor.jpg',\n",
       " \"Not all artists are artists because they draw. It's the idea that counts in forming something of your own... like a signature.\",\n",
       " \"Welcome to the robot ranks, person who downed my self-esteem cuz I'm not an avid signature artist like herself. :proud:\",\n",
       " 'Banned for taking all the room under my bed. Ya gotta learn to share with the roaches.',\n",
       " 'http://www.youtube.com/watch?v=w8IgImn57aQ',\n",
       " 'Banned for being too much of a thundering, grumbling kind of storm... yep.',\n",
       " \"Ahh... old high school music I haven't heard in ages.   http://www.youtube.com/watch?v=dcCRUPCdB1w\",\n",
       " \"I failed a public speaking class a few years ago and I've sort of learned what I could do better were I to be in that position again. A big part of my failure was just overloading myself with too...\",\n",
       " \"I like this person's mentality. He's a confirmed INTJ by the way. http://www.youtube.com/watch?v=hGKLI-GEc6M\",\n",
       " \"Move to the Denver area and start a new life for myself.'\"]"
      ]
     },
     "execution_count": 5,
     "metadata": {},
     "output_type": "execute_result"
    }
   ],
   "source": [
    "data_set.iloc[0,1].split('|||')"
   ]
  },
  {
   "cell_type": "markdown",
   "metadata": {},
   "source": [
    "Finding the number of posts"
   ]
  },
  {
   "cell_type": "code",
   "execution_count": 6,
   "metadata": {},
   "outputs": [
    {
     "data": {
      "text/plain": [
       "50"
      ]
     },
     "execution_count": 6,
     "metadata": {},
     "output_type": "execute_result"
    }
   ],
   "source": [
    "len(data_set.iloc[1,1].split('|||'))"
   ]
  },
  {
   "cell_type": "markdown",
   "metadata": {},
   "source": [
    "Finding the unique vales from type of personality column"
   ]
  },
  {
   "cell_type": "code",
   "execution_count": 7,
   "metadata": {},
   "outputs": [
    {
     "data": {
      "text/plain": [
       "array(['ENFJ', 'ENFP', 'ENTJ', 'ENTP', 'ESFJ', 'ESFP', 'ESTJ', 'ESTP',\n",
       "       'INFJ', 'INFP', 'INTJ', 'INTP', 'ISFJ', 'ISFP', 'ISTJ', 'ISTP'],\n",
       "      dtype=object)"
      ]
     },
     "execution_count": 7,
     "metadata": {},
     "output_type": "execute_result"
    }
   ],
   "source": [
    "types = np.unique(np.array(data_set['type']))\n",
    "types"
   ]
  },
  {
   "cell_type": "markdown",
   "metadata": {},
   "source": [
    "The total number of posts for each type"
   ]
  },
  {
   "cell_type": "code",
   "execution_count": 8,
   "metadata": {
    "scrolled": true
   },
   "outputs": [
    {
     "data": {
      "text/html": [
       "<div>\n",
       "<style scoped>\n",
       "    .dataframe tbody tr th:only-of-type {\n",
       "        vertical-align: middle;\n",
       "    }\n",
       "\n",
       "    .dataframe tbody tr th {\n",
       "        vertical-align: top;\n",
       "    }\n",
       "\n",
       "    .dataframe thead th {\n",
       "        text-align: right;\n",
       "    }\n",
       "</style>\n",
       "<table border=\"1\" class=\"dataframe\">\n",
       "  <thead>\n",
       "    <tr style=\"text-align: right;\">\n",
       "      <th></th>\n",
       "      <th>posts</th>\n",
       "    </tr>\n",
       "    <tr>\n",
       "      <th>type</th>\n",
       "      <th></th>\n",
       "    </tr>\n",
       "  </thead>\n",
       "  <tbody>\n",
       "    <tr>\n",
       "      <th>ENFJ</th>\n",
       "      <td>9500</td>\n",
       "    </tr>\n",
       "    <tr>\n",
       "      <th>ENFP</th>\n",
       "      <td>33750</td>\n",
       "    </tr>\n",
       "    <tr>\n",
       "      <th>ENTJ</th>\n",
       "      <td>11550</td>\n",
       "    </tr>\n",
       "    <tr>\n",
       "      <th>ENTP</th>\n",
       "      <td>34250</td>\n",
       "    </tr>\n",
       "    <tr>\n",
       "      <th>ESFJ</th>\n",
       "      <td>2100</td>\n",
       "    </tr>\n",
       "    <tr>\n",
       "      <th>ESFP</th>\n",
       "      <td>2400</td>\n",
       "    </tr>\n",
       "    <tr>\n",
       "      <th>ESTJ</th>\n",
       "      <td>1950</td>\n",
       "    </tr>\n",
       "    <tr>\n",
       "      <th>ESTP</th>\n",
       "      <td>4450</td>\n",
       "    </tr>\n",
       "    <tr>\n",
       "      <th>INFJ</th>\n",
       "      <td>73500</td>\n",
       "    </tr>\n",
       "    <tr>\n",
       "      <th>INFP</th>\n",
       "      <td>91600</td>\n",
       "    </tr>\n",
       "    <tr>\n",
       "      <th>INTJ</th>\n",
       "      <td>54550</td>\n",
       "    </tr>\n",
       "    <tr>\n",
       "      <th>INTP</th>\n",
       "      <td>65200</td>\n",
       "    </tr>\n",
       "    <tr>\n",
       "      <th>ISFJ</th>\n",
       "      <td>8300</td>\n",
       "    </tr>\n",
       "    <tr>\n",
       "      <th>ISFP</th>\n",
       "      <td>13550</td>\n",
       "    </tr>\n",
       "    <tr>\n",
       "      <th>ISTJ</th>\n",
       "      <td>10250</td>\n",
       "    </tr>\n",
       "    <tr>\n",
       "      <th>ISTP</th>\n",
       "      <td>16850</td>\n",
       "    </tr>\n",
       "  </tbody>\n",
       "</table>\n",
       "</div>"
      ],
      "text/plain": [
       "      posts\n",
       "type       \n",
       "ENFJ   9500\n",
       "ENFP  33750\n",
       "ENTJ  11550\n",
       "ENTP  34250\n",
       "ESFJ   2100\n",
       "ESFP   2400\n",
       "ESTJ   1950\n",
       "ESTP   4450\n",
       "INFJ  73500\n",
       "INFP  91600\n",
       "INTJ  54550\n",
       "INTP  65200\n",
       "ISFJ   8300\n",
       "ISFP  13550\n",
       "ISTJ  10250\n",
       "ISTP  16850"
      ]
     },
     "execution_count": 8,
     "metadata": {},
     "output_type": "execute_result"
    }
   ],
   "source": [
    "total = data_set.groupby(['type']).count()*50\n",
    "total"
   ]
  },
  {
   "cell_type": "markdown",
   "metadata": {},
   "source": [
    "Graphing it for better visualization"
   ]
  },
  {
   "cell_type": "code",
   "execution_count": 9,
   "metadata": {},
   "outputs": [
    {
     "data": {
      "text/plain": [
       "Text(0.5,1,'Total posts for each personality type')"
      ]
     },
     "execution_count": 9,
     "metadata": {},
     "output_type": "execute_result"
    },
    {
     "data": {
      "image/png": "[encoded data removed]",
      "text/plain": [
       "<Figure size 864x432 with 1 Axes>"
      ]
     },
     "metadata": {},
     "output_type": "display_data"
    }
   ],
   "source": [
    "plt.figure(figsize = (12,6))\n",
    "\n",
    "plt.bar(np.array(total.index), height = total['posts'],)\n",
    "plt.xlabel('Personality types', size = 14)\n",
    "plt.ylabel('Number of posts available', size = 14)\n",
    "plt.title('Total posts for each personality type')"
   ]
  },
  {
   "cell_type": "markdown",
   "metadata": {},
   "source": [
    "## Organising the data to create a bag words model"
   ]
  },
  {
   "cell_type": "markdown",
   "metadata": {},
   "source": [
    "Segrating all the posts by their personality types and ***creating a new dataframe to store all this in***"
   ]
  },
  {
   "cell_type": "code",
   "execution_count": 10,
   "metadata": {},
   "outputs": [],
   "source": [
    "all_posts= pd.DataFrame()\n",
    "for j in types:\n",
    "    temp1 = data_set[data_set['type']==j]['posts']\n",
    "    temp2 = []\n",
    "    for i in temp1:\n",
    "        temp2+=i.split('|||')\n",
    "    temp3 = pd.Series(temp2)\n",
    "    all_posts[j] = temp3"
   ]
  },
  {
   "cell_type": "code",
   "execution_count": 11,
   "metadata": {
    "scrolled": true
   },
   "outputs": [
    {
     "data": {
      "text/html": [
       "<div>\n",
       "<style scoped>\n",
       "    .dataframe tbody tr th:only-of-type {\n",
       "        vertical-align: middle;\n",
       "    }\n",
       "\n",
       "    .dataframe tbody tr th {\n",
       "        vertical-align: top;\n",
       "    }\n",
       "\n",
       "    .dataframe thead th {\n",
       "        text-align: right;\n",
       "    }\n",
       "</style>\n",
       "<table border=\"1\" class=\"dataframe\">\n",
       "  <thead>\n",
       "    <tr style=\"text-align: right;\">\n",
       "      <th></th>\n",
       "      <th>ENFJ</th>\n",
       "      <th>ENFP</th>\n",
       "      <th>ENTJ</th>\n",
       "      <th>ENTP</th>\n",
       "      <th>ESFJ</th>\n",
       "      <th>ESFP</th>\n",
       "      <th>ESTJ</th>\n",
       "      <th>ESTP</th>\n",
       "      <th>INFJ</th>\n",
       "      <th>INFP</th>\n",
       "      <th>INTJ</th>\n",
       "      <th>INTP</th>\n",
       "      <th>ISFJ</th>\n",
       "      <th>ISFP</th>\n",
       "      <th>ISTJ</th>\n",
       "      <th>ISTP</th>\n",
       "    </tr>\n",
       "  </thead>\n",
       "  <tbody>\n",
       "    <tr>\n",
       "      <th>9283</th>\n",
       "      <td>I am VERY particular. And I have not dated cer...</td>\n",
       "      <td>'Very true.  The thing is to recognize and ove...</td>\n",
       "      <td>Um, totally off ROFL. I am female, 30, no opin...</td>\n",
       "      <td>Actually I was none of these labels of alpha o...</td>\n",
       "      <td>NaN</td>\n",
       "      <td>NaN</td>\n",
       "      <td>NaN</td>\n",
       "      <td>NaN</td>\n",
       "      <td>'So, hey everyone, me again. :happy:  I want t...</td>\n",
       "      <td>Fantastic, I've avoided having to make my own ...</td>\n",
       "      <td>Arwen - Lord of the Rings  Her faithfulness, r...</td>\n",
       "      <td>i love romance. i love the idea of inside joke...</td>\n",
       "      <td>NaN</td>\n",
       "      <td>If it still serves a meaningful purpose, I don...</td>\n",
       "      <td>Everything points to ISTJ for me, but then som...</td>\n",
       "      <td>Group One I tend to be sociable, but sometimes...</td>\n",
       "    </tr>\n",
       "    <tr>\n",
       "      <th>9284</th>\n",
       "      <td>Could you not tell the guy was INTP?  Is that ...</td>\n",
       "      <td>i'm not real sure it's a great idea to date un...</td>\n",
       "      <td>Hahah that's hilarious</td>\n",
       "      <td>Double post, dammit. &gt;_&lt;</td>\n",
       "      <td>NaN</td>\n",
       "      <td>NaN</td>\n",
       "      <td>NaN</td>\n",
       "      <td>NaN</td>\n",
       "      <td>Put these all together, and you have a fair id...</td>\n",
       "      <td>I suppose in some respect, I used to be that w...</td>\n",
       "      <td>I'm taking this path myself right now, and I'm...</td>\n",
       "      <td>so not fair for those of us who are insecure a...</td>\n",
       "      <td>NaN</td>\n",
       "      <td>LOL I'm glad I could remind you of that. But y...</td>\n",
       "      <td>I think ESFJ is possible</td>\n",
       "      <td>https://www.youtube.com/watch?v=22wU-UITRIA</td>\n",
       "    </tr>\n",
       "    <tr>\n",
       "      <th>9285</th>\n",
       "      <td>I cannot speak for all ENFJ's, but I am hard-w...</td>\n",
       "      <td>Watch some comedies, kids are joyful and make ...</td>\n",
       "      <td>https://www.onlineassessmenttool.com/instinctu...</td>\n",
       "      <td>Radicalism 83 Socialism 100 Tenderness 71.875 ...</td>\n",
       "      <td>NaN</td>\n",
       "      <td>NaN</td>\n",
       "      <td>NaN</td>\n",
       "      <td>NaN</td>\n",
       "      <td>I need to let go of my tendency to take too la...</td>\n",
       "      <td>I only know one in real life, but personally, ...</td>\n",
       "      <td>If only! My life would be so much more ruthles...</td>\n",
       "      <td>i hadn't heard of this, but i feel it's true i...</td>\n",
       "      <td>NaN</td>\n",
       "      <td>LOL. Thanks for making my day...INTPs are so f...</td>\n",
       "      <td>I disagree that Brandon is an INTJ. He cares a...</td>\n",
       "      <td>I'm trying to think... my first two detentions...</td>\n",
       "    </tr>\n",
       "    <tr>\n",
       "      <th>9286</th>\n",
       "      <td>Of course you do not see the point of the vide...</td>\n",
       "      <td>Meditation is great! Read up on TFT and EFT ta...</td>\n",
       "      <td>ENTJ - idunno...</td>\n",
       "      <td>Quoted for astonishing truth.  One thing thoug...</td>\n",
       "      <td>NaN</td>\n",
       "      <td>NaN</td>\n",
       "      <td>NaN</td>\n",
       "      <td>NaN</td>\n",
       "      <td>Hello, and welcome to the forum!!! :D There's ...</td>\n",
       "      <td>Am I evil? is a question I've asked myself tim...</td>\n",
       "      <td>I don't know, maybe because I'm a Jungian mutt...</td>\n",
       "      <td>that's funny to me because i saved my chat log...</td>\n",
       "      <td>NaN</td>\n",
       "      <td>That's fair I guess, but you're still trying t...</td>\n",
       "      <td>I thought so, but I don't think she rambles as...</td>\n",
       "      <td>I think you can.  You should never let your pe...</td>\n",
       "    </tr>\n",
       "    <tr>\n",
       "      <th>9287</th>\n",
       "      <td>The types fit because the way they use their c...</td>\n",
       "      <td>2 Physical Touch   7 Quality Time   7 Words of...</td>\n",
       "      <td>I miscarried recently and was quite distraught...</td>\n",
       "      <td>Sure. I was taken aback by what I saw (and pre...</td>\n",
       "      <td>NaN</td>\n",
       "      <td>NaN</td>\n",
       "      <td>NaN</td>\n",
       "      <td>NaN</td>\n",
       "      <td>Oh that's just cruel. :D I'm going to go and G...</td>\n",
       "      <td>I've yet to meet an ENFJ in real life but you ...</td>\n",
       "      <td>I do not watch TV, period. I haven't since 200...</td>\n",
       "      <td>wow. i just fell in love with myself  lol</td>\n",
       "      <td>NaN</td>\n",
       "      <td>A lot of your responses seemed to indicate a p...</td>\n",
       "      <td>Cmart animalfromthesea you are both probably r...</td>\n",
       "      <td>I think it's just a part of human nature to ca...</td>\n",
       "    </tr>\n",
       "  </tbody>\n",
       "</table>\n",
       "</div>"
      ],
      "text/plain": [
       "                                                   ENFJ  \\\n",
       "9283  I am VERY particular. And I have not dated cer...   \n",
       "9284  Could you not tell the guy was INTP?  Is that ...   \n",
       "9285  I cannot speak for all ENFJ's, but I am hard-w...   \n",
       "9286  Of course you do not see the point of the vide...   \n",
       "9287  The types fit because the way they use their c...   \n",
       "\n",
       "                                                   ENFP  \\\n",
       "9283  'Very true.  The thing is to recognize and ove...   \n",
       "9284  i'm not real sure it's a great idea to date un...   \n",
       "9285  Watch some comedies, kids are joyful and make ...   \n",
       "9286  Meditation is great! Read up on TFT and EFT ta...   \n",
       "9287  2 Physical Touch   7 Quality Time   7 Words of...   \n",
       "\n",
       "                                                   ENTJ  \\\n",
       "9283  Um, totally off ROFL. I am female, 30, no opin...   \n",
       "9284                             Hahah that's hilarious   \n",
       "9285  https://www.onlineassessmenttool.com/instinctu...   \n",
       "9286                                   ENTJ - idunno...   \n",
       "9287  I miscarried recently and was quite distraught...   \n",
       "\n",
       "                                                   ENTP ESFJ ESFP ESTJ ESTP  \\\n",
       "9283  Actually I was none of these labels of alpha o...  NaN  NaN  NaN  NaN   \n",
       "9284                           Double post, dammit. >_<  NaN  NaN  NaN  NaN   \n",
       "9285  Radicalism 83 Socialism 100 Tenderness 71.875 ...  NaN  NaN  NaN  NaN   \n",
       "9286  Quoted for astonishing truth.  One thing thoug...  NaN  NaN  NaN  NaN   \n",
       "9287  Sure. I was taken aback by what I saw (and pre...  NaN  NaN  NaN  NaN   \n",
       "\n",
       "                                                   INFJ  \\\n",
       "9283  'So, hey everyone, me again. :happy:  I want t...   \n",
       "9284  Put these all together, and you have a fair id...   \n",
       "9285  I need to let go of my tendency to take too la...   \n",
       "9286  Hello, and welcome to the forum!!! :D There's ...   \n",
       "9287  Oh that's just cruel. :D I'm going to go and G...   \n",
       "\n",
       "                                                   INFP  \\\n",
       "9283  Fantastic, I've avoided having to make my own ...   \n",
       "9284  I suppose in some respect, I used to be that w...   \n",
       "9285  I only know one in real life, but personally, ...   \n",
       "9286  Am I evil? is a question I've asked myself tim...   \n",
       "9287  I've yet to meet an ENFJ in real life but you ...   \n",
       "\n",
       "                                                   INTJ  \\\n",
       "9283  Arwen - Lord of the Rings  Her faithfulness, r...   \n",
       "9284  I'm taking this path myself right now, and I'm...   \n",
       "9285  If only! My life would be so much more ruthles...   \n",
       "9286  I don't know, maybe because I'm a Jungian mutt...   \n",
       "9287  I do not watch TV, period. I haven't since 200...   \n",
       "\n",
       "                                                   INTP ISFJ  \\\n",
       "9283  i love romance. i love the idea of inside joke...  NaN   \n",
       "9284  so not fair for those of us who are insecure a...  NaN   \n",
       "9285  i hadn't heard of this, but i feel it's true i...  NaN   \n",
       "9286  that's funny to me because i saved my chat log...  NaN   \n",
       "9287          wow. i just fell in love with myself  lol  NaN   \n",
       "\n",
       "                                                   ISFP  \\\n",
       "9283  If it still serves a meaningful purpose, I don...   \n",
       "9284  LOL I'm glad I could remind you of that. But y...   \n",
       "9285  LOL. Thanks for making my day...INTPs are so f...   \n",
       "9286  That's fair I guess, but you're still trying t...   \n",
       "9287  A lot of your responses seemed to indicate a p...   \n",
       "\n",
       "                                                   ISTJ  \\\n",
       "9283  Everything points to ISTJ for me, but then som...   \n",
       "9284                           I think ESFJ is possible   \n",
       "9285  I disagree that Brandon is an INTJ. He cares a...   \n",
       "9286  I thought so, but I don't think she rambles as...   \n",
       "9287  Cmart animalfromthesea you are both probably r...   \n",
       "\n",
       "                                                   ISTP  \n",
       "9283  Group One I tend to be sociable, but sometimes...  \n",
       "9284        https://www.youtube.com/watch?v=22wU-UITRIA  \n",
       "9285  I'm trying to think... my first two detentions...  \n",
       "9286  I think you can.  You should never let your pe...  \n",
       "9287  I think it's just a part of human nature to ca...  "
      ]
     },
     "execution_count": 11,
     "metadata": {},
     "output_type": "execute_result"
    }
   ],
   "source": [
    "all_posts.tail()"
   ]
  },
  {
   "cell_type": "markdown",
   "metadata": {},
   "source": [
    "### Creating a function to tokenize the words"
   ]
  },
  {
   "cell_type": "code",
   "execution_count": 12,
   "metadata": {},
   "outputs": [],
   "source": [
    "useless_words = nltk.corpus.stopwords.words(\"english\") + list(string.punctuation)\n",
    "def build_bag_of_words_features_filtered(words):\n",
    "    words = nltk.word_tokenize(words)\n",
    "    return {\n",
    "        word:1 for word in words \\\n",
    "        if not word in useless_words}"
   ]
  },
  {
   "cell_type": "markdown",
   "metadata": {},
   "source": [
    "A random check of the function"
   ]
  },
  {
   "cell_type": "code",
   "execution_count": 13,
   "metadata": {
    "scrolled": true
   },
   "outputs": [
    {
     "data": {
      "text/plain": [
       "{'Dear': 1,\n",
       " 'ENTJ': 1,\n",
       " 'sub': 1,\n",
       " 'Long': 1,\n",
       " 'time': 1,\n",
       " 'see': 1,\n",
       " 'Sincerely': 1,\n",
       " 'Alpha': 1}"
      ]
     },
     "execution_count": 13,
     "metadata": {},
     "output_type": "execute_result"
    }
   ],
   "source": [
    "build_bag_of_words_features_filtered(all_posts['INTJ'].iloc[1])"
   ]
  },
  {
   "cell_type": "markdown",
   "metadata": {},
   "source": [
    "## Creating an array of features"
   ]
  },
  {
   "cell_type": "code",
   "execution_count": 14,
   "metadata": {},
   "outputs": [],
   "source": [
    "features=[]\n",
    "for j in types:\n",
    "    temp1 = all_posts[j]\n",
    "    temp1 = temp1.dropna() #not all the personality types have same number of files\n",
    "    features += [[(build_bag_of_words_features_filtered(i), j) \\\n",
    "    for i in temp1]]"
   ]
  },
  {
   "cell_type": "markdown",
   "metadata": {},
   "source": [
    "Because each number of personality types have different number of posts they must be splitted accordingle. Taking 80% for training and 20% for testing"
   ]
  },
  {
   "cell_type": "code",
   "execution_count": 15,
   "metadata": {},
   "outputs": [],
   "source": [
    "split=[]\n",
    "for i in range(16):\n",
    "    split += [len(features[i]) * 0.8]\n",
    "split = np.array(split,dtype = int)"
   ]
  },
  {
   "cell_type": "code",
   "execution_count": 16,
   "metadata": {
    "scrolled": true
   },
   "outputs": [
    {
     "data": {
      "text/plain": [
       "array([7430, 7430, 7430, 7430, 1614, 1772, 1536, 3469, 7430, 7430, 7430,\n",
       "       7430, 6496, 7430, 7430, 7430])"
      ]
     },
     "execution_count": 16,
     "metadata": {},
     "output_type": "execute_result"
    }
   ],
   "source": [
    "split"
   ]
  },
  {
   "cell_type": "markdown",
   "metadata": {},
   "source": [
    "Data for training"
   ]
  },
  {
   "cell_type": "code",
   "execution_count": 17,
   "metadata": {},
   "outputs": [],
   "source": [
    "train=[]\n",
    "for i in range(16):\n",
    "    train += features[i][:split[i]] "
   ]
  },
  {
   "cell_type": "markdown",
   "metadata": {},
   "source": [
    "Training the model"
   ]
  },
  {
   "cell_type": "code",
   "execution_count": 18,
   "metadata": {},
   "outputs": [],
   "source": [
    "sentiment_classifier = NaiveBayesClassifier.train(train)"
   ]
  },
  {
   "cell_type": "markdown",
   "metadata": {},
   "source": [
    "Testing the model on the dataset it was trained for accuracy"
   ]
  },
  {
   "cell_type": "code",
   "execution_count": 19,
   "metadata": {
    "scrolled": true
   },
   "outputs": [
    {
     "data": {
      "text/plain": [
       "43.904281855160065"
      ]
     },
     "execution_count": 19,
     "metadata": {},
     "output_type": "execute_result"
    }
   ],
   "source": [
    "nltk.classify.util.accuracy(sentiment_classifier, train)*100"
   ]
  },
  {
   "cell_type": "markdown",
   "metadata": {},
   "source": [
    "Creating the test data"
   ]
  },
  {
   "cell_type": "code",
   "execution_count": 20,
   "metadata": {},
   "outputs": [],
   "source": [
    "test=[]\n",
    "for i in range(16):\n",
    "    test += features[i][split[i]:]"
   ]
  },
  {
   "cell_type": "markdown",
   "metadata": {},
   "source": [
    "Testing the model on the test dataset which it has never seen before"
   ]
  },
  {
   "cell_type": "code",
   "execution_count": 21,
   "metadata": {},
   "outputs": [
    {
     "data": {
      "text/plain": [
       "10.238794851632662"
      ]
     },
     "execution_count": 21,
     "metadata": {},
     "output_type": "execute_result"
    }
   ],
   "source": [
    "nltk.classify.util.accuracy(sentiment_classifier, test)*100"
   ]
  },
  {
   "cell_type": "markdown",
   "metadata": {},
   "source": [
    "# The model performs at efficieny of only 10% which is pretty bad.\n",
    "\n",
    "## Hence, instead of selecting all 16 types of personalitys as a unique feature I explored the dataset further and decided to simplify it.\n",
    "\n",
    "The Myers Briggs Type Indicator (or MBTI for short) is a personality type system that divides everyone into 16 distinct personality types across 4 axis:\n",
    "\n",
    "- Introversion (I) – Extroversion (E)\n",
    "- Intuition (N) – Sensing (S)\n",
    "- Thinking (T) – Feeling (F)\n",
    "- Judging (J) – Perceiving (P)\n",
    "<br><br>\n",
    "We will use this and create 4 classifyers to classify the person "
   ]
  },
  {
   "cell_type": "markdown",
   "metadata": {},
   "source": [
    "## Creating a classifyer for Introversion (I) and Extroversion (E)\n",
    "\n",
    "**Note:** The details for the steps over here are same as the ones while creating the model above, hence I will only explain the changes"
   ]
  },
  {
   "cell_type": "code",
   "execution_count": 22,
   "metadata": {},
   "outputs": [],
   "source": [
    "# Features for the bag of words model\n",
    "features=[]\n",
    "for j in types:\n",
    "    temp1 = all_posts[j]\n",
    "    temp1 = temp1.dropna() #not all the personality types have same number of files\n",
    "    if('I' in j):\n",
    "        features += [[(build_bag_of_words_features_filtered(i), 'introvert') \\\n",
    "        for i in temp1]]\n",
    "    if('E' in j):\n",
    "        features += [[(build_bag_of_words_features_filtered(i), 'extrovert') \\\n",
    "        for i in temp1]]"
   ]
  },
  {
   "cell_type": "markdown",
   "metadata": {},
   "source": [
    "Data for training"
   ]
  },
  {
   "cell_type": "code",
   "execution_count": 23,
   "metadata": {},
   "outputs": [],
   "source": [
    "train=[]\n",
    "for i in range(16):\n",
    "    train += features[i][:split[i]] "
   ]
  },
  {
   "cell_type": "markdown",
   "metadata": {},
   "source": [
    "Training the model"
   ]
  },
  {
   "cell_type": "code",
   "execution_count": 24,
   "metadata": {},
   "outputs": [],
   "source": [
    "IntroExtro = NaiveBayesClassifier.train(train)"
   ]
  },
  {
   "cell_type": "markdown",
   "metadata": {},
   "source": [
    "Testing the model on the dataset it was trained for accuracy"
   ]
  },
  {
   "cell_type": "code",
   "execution_count": 25,
   "metadata": {
    "scrolled": true
   },
   "outputs": [
    {
     "data": {
      "text/plain": [
       "81.12443979837917"
      ]
     },
     "execution_count": 25,
     "metadata": {},
     "output_type": "execute_result"
    }
   ],
   "source": [
    "nltk.classify.util.accuracy(IntroExtro, train)*100"
   ]
  },
  {
   "cell_type": "markdown",
   "metadata": {},
   "source": [
    "Creating the test data"
   ]
  },
  {
   "cell_type": "code",
   "execution_count": 26,
   "metadata": {},
   "outputs": [],
   "source": [
    "test=[]\n",
    "for i in range(16):\n",
    "    test += features[i][split[i]:]"
   ]
  },
  {
   "cell_type": "markdown",
   "metadata": {},
   "source": [
    "Testing the model on the test dataset which it has never seen before"
   ]
  },
  {
   "cell_type": "code",
   "execution_count": 27,
   "metadata": {},
   "outputs": [
    {
     "data": {
      "text/plain": [
       "58.20469312585358"
      ]
     },
     "execution_count": 27,
     "metadata": {},
     "output_type": "execute_result"
    }
   ],
   "source": [
    "nltk.classify.util.accuracy(IntroExtro, test)*100"
   ]
  },
  {
   "cell_type": "markdown",
   "metadata": {},
   "source": [
    "Seeing that this model has good somewhat good results, I shall repeat the same with the rest of the traits"
   ]
  },
  {
   "cell_type": "markdown",
   "metadata": {},
   "source": [
    "## Creating a classifyer for Intuition (N) and Sensing (S)"
   ]
  },
  {
   "cell_type": "code",
   "execution_count": 28,
   "metadata": {},
   "outputs": [],
   "source": [
    "# Features for the bag of words model\n",
    "features=[]\n",
    "for j in types:\n",
    "    temp1 = all_posts[j]\n",
    "    temp1 = temp1.dropna() #not all the personality types have same number of files\n",
    "    if('N' in j):\n",
    "        features += [[(build_bag_of_words_features_filtered(i), 'Intuition') \\\n",
    "        for i in temp1]]\n",
    "    if('E' in j):\n",
    "        features += [[(build_bag_of_words_features_filtered(i), 'Sensing') \\\n",
    "        for i in temp1]]"
   ]
  },
  {
   "cell_type": "markdown",
   "metadata": {},
   "source": [
    "Data for training"
   ]
  },
  {
   "cell_type": "code",
   "execution_count": 29,
   "metadata": {},
   "outputs": [],
   "source": [
    "train=[]\n",
    "for i in range(16):\n",
    "    train += features[i][:split[i]] "
   ]
  },
  {
   "cell_type": "markdown",
   "metadata": {},
   "source": [
    "Training the model"
   ]
  },
  {
   "cell_type": "code",
   "execution_count": 30,
   "metadata": {},
   "outputs": [],
   "source": [
    "IntuitionSensing = NaiveBayesClassifier.train(train)"
   ]
  },
  {
   "cell_type": "markdown",
   "metadata": {},
   "source": [
    "Testing the model on the dataset it was trained for accuracy"
   ]
  },
  {
   "cell_type": "code",
   "execution_count": 31,
   "metadata": {
    "scrolled": true
   },
   "outputs": [
    {
     "data": {
      "text/plain": [
       "70.14524215640667"
      ]
     },
     "execution_count": 31,
     "metadata": {},
     "output_type": "execute_result"
    }
   ],
   "source": [
    "nltk.classify.util.accuracy(IntuitionSensing, train)*100"
   ]
  },
  {
   "cell_type": "markdown",
   "metadata": {},
   "source": [
    "Creating the test data"
   ]
  },
  {
   "cell_type": "code",
   "execution_count": 32,
   "metadata": {},
   "outputs": [],
   "source": [
    "test=[]\n",
    "for i in range(16):\n",
    "    test += features[i][split[i]:]"
   ]
  },
  {
   "cell_type": "markdown",
   "metadata": {},
   "source": [
    "Testing the model on the test dataset which it has never seen before"
   ]
  },
  {
   "cell_type": "code",
   "execution_count": 33,
   "metadata": {},
   "outputs": [
    {
     "data": {
      "text/plain": [
       "54.46262259027357"
      ]
     },
     "execution_count": 33,
     "metadata": {},
     "output_type": "execute_result"
    }
   ],
   "source": [
    "nltk.classify.util.accuracy(IntuitionSensing, test)*100"
   ]
  },
  {
   "cell_type": "markdown",
   "metadata": {},
   "source": [
    "## Creating a classifyer for Thinking (T) and Feeling (F)"
   ]
  },
  {
   "cell_type": "code",
   "execution_count": 34,
   "metadata": {},
   "outputs": [],
   "source": [
    "# Features for the bag of words model\n",
    "features=[]\n",
    "for j in types:\n",
    "    temp1 = all_posts[j]\n",
    "    temp1 = temp1.dropna() #not all the personality types have same number of files\n",
    "    if('T' in j):\n",
    "        features += [[(build_bag_of_words_features_filtered(i), 'Thinking') \\\n",
    "        for i in temp1]]\n",
    "    if('F' in j):\n",
    "        features += [[(build_bag_of_words_features_filtered(i), 'Feeling') \\\n",
    "        for i in temp1]]"
   ]
  },
  {
   "cell_type": "markdown",
   "metadata": {},
   "source": [
    "Data for training"
   ]
  },
  {
   "cell_type": "code",
   "execution_count": 35,
   "metadata": {},
   "outputs": [],
   "source": [
    "train=[]\n",
    "for i in range(16):\n",
    "    train += features[i][:split[i]] "
   ]
  },
  {
   "cell_type": "markdown",
   "metadata": {},
   "source": [
    "Training the model"
   ]
  },
  {
   "cell_type": "code",
   "execution_count": 36,
   "metadata": {},
   "outputs": [],
   "source": [
    "ThinkingFeeling = NaiveBayesClassifier.train(train)"
   ]
  },
  {
   "cell_type": "markdown",
   "metadata": {},
   "source": [
    "Testing the model on the dataset it was trained for accuracy"
   ]
  },
  {
   "cell_type": "code",
   "execution_count": 37,
   "metadata": {
    "scrolled": true
   },
   "outputs": [
    {
     "data": {
      "text/plain": [
       "80.03456948570128"
      ]
     },
     "execution_count": 37,
     "metadata": {},
     "output_type": "execute_result"
    }
   ],
   "source": [
    "nltk.classify.util.accuracy(ThinkingFeeling, train)*100"
   ]
  },
  {
   "cell_type": "markdown",
   "metadata": {},
   "source": [
    "Creating the test data"
   ]
  },
  {
   "cell_type": "code",
   "execution_count": 38,
   "metadata": {},
   "outputs": [],
   "source": [
    "test=[]\n",
    "for i in range(16):\n",
    "    test += features[i][split[i]:]"
   ]
  },
  {
   "cell_type": "markdown",
   "metadata": {},
   "source": [
    "Testing the model on the test dataset which it has never seen before"
   ]
  },
  {
   "cell_type": "code",
   "execution_count": 39,
   "metadata": {},
   "outputs": [
    {
     "data": {
      "text/plain": [
       "59.41315234035509"
      ]
     },
     "execution_count": 39,
     "metadata": {},
     "output_type": "execute_result"
    }
   ],
   "source": [
    "nltk.classify.util.accuracy(ThinkingFeeling, test)*100"
   ]
  },
  {
   "cell_type": "markdown",
   "metadata": {},
   "source": [
    "## Creating a classifyer for Judging (J) and Percieving (P)"
   ]
  },
  {
   "cell_type": "code",
   "execution_count": 40,
   "metadata": {},
   "outputs": [],
   "source": [
    "# Features for the bag of words model\n",
    "features=[]\n",
    "for j in types:\n",
    "    temp1 = all_posts[j]\n",
    "    temp1 = temp1.dropna() #not all the personality types have same number of files\n",
    "    if('J' in j):\n",
    "        features += [[(build_bag_of_words_features_filtered(i), 'Judging') \\\n",
    "        for i in temp1]]\n",
    "    if('P' in j):\n",
    "        features += [[(build_bag_of_words_features_filtered(i), 'Percieving') \\\n",
    "        for i in temp1]]"
   ]
  },
  {
   "cell_type": "markdown",
   "metadata": {},
   "source": [
    "Data for training"
   ]
  },
  {
   "cell_type": "code",
   "execution_count": 41,
   "metadata": {},
   "outputs": [],
   "source": [
    "train=[]\n",
    "for i in range(16):\n",
    "    train += features[i][:split[i]] "
   ]
  },
  {
   "cell_type": "markdown",
   "metadata": {},
   "source": [
    "Training the model"
   ]
  },
  {
   "cell_type": "code",
   "execution_count": 42,
   "metadata": {},
   "outputs": [],
   "source": [
    "JudgingPercieiving = NaiveBayesClassifier.train(train)"
   ]
  },
  {
   "cell_type": "markdown",
   "metadata": {},
   "source": [
    "Testing the model on the dataset it was trained for accuracy"
   ]
  },
  {
   "cell_type": "code",
   "execution_count": 43,
   "metadata": {
    "scrolled": true
   },
   "outputs": [
    {
     "data": {
      "text/plain": [
       "79.79341109742592"
      ]
     },
     "execution_count": 43,
     "metadata": {},
     "output_type": "execute_result"
    }
   ],
   "source": [
    "nltk.classify.util.accuracy(JudgingPercieiving, train)*100"
   ]
  },
  {
   "cell_type": "markdown",
   "metadata": {},
   "source": [
    "Creating the test data"
   ]
  },
  {
   "cell_type": "code",
   "execution_count": 44,
   "metadata": {},
   "outputs": [],
   "source": [
    "test=[]\n",
    "for i in range(16):\n",
    "    test += features[i][split[i]:]"
   ]
  },
  {
   "cell_type": "markdown",
   "metadata": {},
   "source": [
    "Testing the model on the test dataset which it has never seen before"
   ]
  },
  {
   "cell_type": "code",
   "execution_count": 45,
   "metadata": {},
   "outputs": [
    {
     "data": {
      "text/plain": [
       "54.40549600629061"
      ]
     },
     "execution_count": 45,
     "metadata": {},
     "output_type": "execute_result"
    }
   ],
   "source": [
    "nltk.classify.util.accuracy(JudgingPercieiving, test)*100"
   ]
  },
  {
   "cell_type": "markdown",
   "metadata": {},
   "source": [
    "# Summarizing the results of the models\n",
    "***\n"
   ]
  },
  {
   "cell_type": "code",
   "execution_count": 46,
   "metadata": {},
   "outputs": [
    {
     "data": {
      "text/html": [
       "<div>\n",
       "<style scoped>\n",
       "    .dataframe tbody tr th:only-of-type {\n",
       "        vertical-align: middle;\n",
       "    }\n",
       "\n",
       "    .dataframe tbody tr th {\n",
       "        vertical-align: top;\n",
       "    }\n",
       "\n",
       "    .dataframe thead th {\n",
       "        text-align: right;\n",
       "    }\n",
       "</style>\n",
       "<table border=\"1\" class=\"dataframe\">\n",
       "  <thead>\n",
       "    <tr style=\"text-align: right;\">\n",
       "      <th></th>\n",
       "      <th>Introvert - Extrovert</th>\n",
       "      <th>Intuition - Sensing</th>\n",
       "      <th>Thinking - Feeling</th>\n",
       "      <th>Judging - Percieiving</th>\n",
       "    </tr>\n",
       "  </thead>\n",
       "  <tbody>\n",
       "    <tr>\n",
       "      <th>train</th>\n",
       "      <td>81.124440</td>\n",
       "      <td>70.145242</td>\n",
       "      <td>80.034569</td>\n",
       "      <td>79.793411</td>\n",
       "    </tr>\n",
       "    <tr>\n",
       "      <th>test</th>\n",
       "      <td>58.204693</td>\n",
       "      <td>54.462623</td>\n",
       "      <td>59.413152</td>\n",
       "      <td>54.405496</td>\n",
       "    </tr>\n",
       "  </tbody>\n",
       "</table>\n",
       "</div>"
      ],
      "text/plain": [
       "       Introvert - Extrovert  Intuition - Sensing  Thinking - Feeling  \\\n",
       "train              81.124440            70.145242           80.034569   \n",
       "test               58.204693            54.462623           59.413152   \n",
       "\n",
       "       Judging - Percieiving  \n",
       "train              79.793411  \n",
       "test               54.405496  "
      ]
     },
     "execution_count": 46,
     "metadata": {},
     "output_type": "execute_result"
    }
   ],
   "source": [
    "temp = {'train' : [81.12443979837917,70.14524215640667,80.03456948570128,79.79341109742592], 'test' : [58.20469312585358,54.46262259027357,59.41315234035509,54.40549600629061]}\n",
    "results = pd.DataFrame.from_dict(temp, orient='index', columns=['Introvert - Extrovert', 'Intuition - Sensing', 'Thinking - Feeling', 'Judging - Percieiving'])\n",
    "results"
   ]
  },
  {
   "cell_type": "markdown",
   "metadata": {},
   "source": [
    "Plotting the results for better appeal"
   ]
  },
  {
   "cell_type": "code",
   "execution_count": 47,
   "metadata": {},
   "outputs": [
    {
     "data": {
      "text/plain": [
       "Text(0.5,1,'Total posts for each personality type')"
      ]
     },
     "execution_count": 47,
     "metadata": {},
     "output_type": "execute_result"
    },
    {
     "data": {
      "image/png": "[encoded data removed]",
      "text/plain": [
       "<Figure size 864x432 with 1 Axes>"
      ]
     },
     "metadata": {},
     "output_type": "display_data"
    }
   ],
   "source": [
    "plt.figure(figsize = (12,6))\n",
    "\n",
    "plt.bar(np.array(results.columns), height = results.loc['train'],)\n",
    "plt.xlabel('Personality types', size = 14)\n",
    "plt.ylabel('Number of posts available', size = 14)\n",
    "plt.title('Total posts for each personality type')"
   ]
  },
  {
   "cell_type": "code",
   "execution_count": 48,
   "metadata": {},
   "outputs": [
    {
     "data": {
      "image/png": "[encoded data removed]",
      "text/plain": [
       "<Figure size 864x432 with 1 Axes>"
      ]
     },
     "metadata": {},
     "output_type": "display_data"
    }
   ],
   "source": [
    "labels = np.array(results.columns)\n",
    "\n",
    "training = results.loc['train']\n",
    "ind = np.arange(4)\n",
    "width = 0.4\n",
    "fig = plt.figure()\n",
    "ax = fig.add_subplot(111)\n",
    "rects1 = ax.bar(ind, training, width, color='royalblue')\n",
    "\n",
    "testing = results.loc['test']\n",
    "rects2 = ax.bar(ind+width, testing, width, color='seagreen')\n",
    "\n",
    "fig.set_size_inches(12, 6)\n",
    "fig.savefig('Results.png', dpi=200)\n",
    "\n",
    "ax.set_xlabel('Model Classifying Trait', size = 18)\n",
    "ax.set_ylabel('Accuracy Percent (%)', size = 18)\n",
    "ax.set_xticks(ind + width / 2)\n",
    "ax.set_xticklabels(labels)\n",
    "ax.legend((rects1[0], rects2[0]), ('Tested on a known dataframe', 'Tested on an unknown dataframe'))\n",
    "plt.show()"
   ]
  },
  {
   "cell_type": "markdown",
   "metadata": {},
   "source": [
    "# Testing the models to predict my trait my feeding few of my quora writings\n",
    "\n",
    "link to my quora answers feed: https://www.quora.com/profile/Divya-Bramhecha"
   ]
  },
  {
   "cell_type": "markdown",
   "metadata": {},
   "source": [
    "Defining a functions that inputs the writings, tokenizes them and then predicts the output based on our earlier classifiers"
   ]
  },
  {
   "cell_type": "code",
   "execution_count": 192,
   "metadata": {},
   "outputs": [],
   "source": [
    "def MBTI(input):\n",
    "    tokenize = build_bag_of_words_features_filtered(input)\n",
    "    ie = IntroExtro.classify(tokenize)\n",
    "    Is = IntuitionSensing.classify(tokenize)\n",
    "    tf = ThinkingFeeling.classify(tokenize)\n",
    "    jp = JudgingPercieiving.classify(tokenize)\n",
    "    \n",
    "    mbt = ''\n",
    "    \n",
    "    if(ie == 'introvert'):\n",
    "        mbt+='I'\n",
    "    if(ie == 'extrovert'):\n",
    "        mbt+='E'\n",
    "    if(Is == 'Intuition'):\n",
    "        mbt+='N'\n",
    "    if(Is == 'Sensing'):\n",
    "        mbt+='S'\n",
    "    if(tf == 'Thinking'):\n",
    "        mbt+='T'\n",
    "    if(tf == 'Feeling'):\n",
    "        mbt+='F'\n",
    "    if(jp == 'Judging'):\n",
    "        mbt+='J'\n",
    "    if(jp == 'Percieving'):\n",
    "        mbt+='P'\n",
    "    return(mbt)\n",
    "    "
   ]
  },
  {
   "cell_type": "markdown",
   "metadata": {},
   "source": [
    "### Building another functions that takes all of my posts as input and outputs the graph showing percentage of each trait seen in each posts and sums up displaying your personality as the graph title\n",
    "\n",
    "**Note:** The input should be an array of your posts"
   ]
  },
  {
   "cell_type": "code",
   "execution_count": 243,
   "metadata": {},
   "outputs": [],
   "source": [
    "def tellmemyMBTI(input, name, traasits=[]):\n",
    "    a = []\n",
    "    trait1 = pd.DataFrame([0,0,0,0],['I','N','T','J'],['count'])\n",
    "    trait2 = pd.DataFrame([0,0,0,0],['E','S','F','P'],['count'])\n",
    "    for i in input:\n",
    "        a += [MBTI(i)]\n",
    "    for i in a:\n",
    "        for j in ['I','N','T','J']:\n",
    "            if(j in i):\n",
    "                trait1.loc[j]+=1                \n",
    "        for j in ['E','S','F','P']:\n",
    "            if(j in i):\n",
    "                trait2.loc[j]+=1 \n",
    "    trait1 = trait1.T\n",
    "    trait1 = trait1*100/len(input)\n",
    "    trait2 = trait2.T\n",
    "    trait2 = trait2*100/len(input)\n",
    "    \n",
    "    \n",
    "    #Finding the personality\n",
    "    YourTrait = ''\n",
    "    for i,j in zip(trait1,trait2):\n",
    "        temp = max(trait1[i][0],trait2[j][0])\n",
    "        if(trait1[i][0]==temp):\n",
    "            YourTrait += i  \n",
    "        if(trait2[j][0]==temp):\n",
    "            YourTrait += j\n",
    "    traasits +=[YourTrait] \n",
    "    \n",
    "    #Plotting\n",
    "    \n",
    "    labels = np.array(results.columns)\n",
    "\n",
    "    intj = trait1.loc['count']\n",
    "    ind = np.arange(4)\n",
    "    width = 0.4\n",
    "    fig = plt.figure()\n",
    "    ax = fig.add_subplot(111)\n",
    "    rects1 = ax.bar(ind, intj, width, color='royalblue')\n",
    "\n",
    "    esfp = trait2.loc['count']\n",
    "    rects2 = ax.bar(ind+width, esfp, width, color='seagreen')\n",
    "\n",
    "    fig.set_size_inches(10, 7)\n",
    "    \n",
    "    \n",
    "\n",
    "    ax.set_xlabel('Finding the MBTI Trait', size = 18)\n",
    "    ax.set_ylabel('Trait Percent (%)', size = 18)\n",
    "    ax.set_xticks(ind + width / 2)\n",
    "    ax.set_xticklabels(labels)\n",
    "    ax.set_yticks(np.arange(0,105, step= 10))\n",
    "    ax.set_title('Your Personality is '+YourTrait,size = 20)\n",
    "    plt.grid(True)\n",
    "    \n",
    "    \n",
    "    fig.savefig(name+'.png', dpi=200)\n",
    "    \n",
    "    plt.show()\n",
    "    return(traasits)\n",
    "        "
   ]
  },
  {
   "cell_type": "markdown",
   "metadata": {},
   "source": [
    "# Importing my quora answers from a text file\n",
    "\n",
    "I copied all my answer from the link i provided before (i broke down the paragraphs as separte posts)"
   ]
  },
  {
   "cell_type": "code",
   "execution_count": 244,
   "metadata": {
    "scrolled": true
   },
   "outputs": [],
   "source": [
    "My_writings = open(\"Myquora.txt\")\n",
    "my_writing = My_writings.readlines()\n",
    "#my_writing"
   ]
  },
  {
   "cell_type": "code",
   "execution_count": 245,
   "metadata": {
    "scrolled": true
   },
   "outputs": [
    {
     "data": {
      "text/plain": [
       "38"
      ]
     },
     "execution_count": 245,
     "metadata": {},
     "output_type": "execute_result"
    }
   ],
   "source": [
    "my_posts = my_writing[0].split('|||')\n",
    "len(my_posts)\n",
    "#my_posts"
   ]
  },
  {
   "cell_type": "markdown",
   "metadata": {},
   "source": [
    "# Using the classifier to predict my personality type"
   ]
  },
  {
   "cell_type": "code",
   "execution_count": 246,
   "metadata": {},
   "outputs": [
    {
     "data": {
      "image/png": "[encoded data removed]",
      "text/plain": [
       "<Figure size 720x504 with 1 Axes>"
      ]
     },
     "metadata": {},
     "output_type": "display_data"
    }
   ],
   "source": [
    "trait=tellmemyMBTI(my_posts, 'Divy')\n"
   ]
  },
  {
   "cell_type": "markdown",
   "metadata": {},
   "source": [
    "# Concluding note\n",
    "\n",
    "My profile according to https://www.16personalities.com/ is INTJ.\n",
    "\n",
    "I am pretty happy that using such a basic model it was pretty close to my real profile, only 1 different. And even that difference was very close, between 10% inaccuary which pretty good.\n",
    "\n",
    "Although, I am not sure how the classifier will perform on all test cases in general. Specially, the data for some profiles was very less."
   ]
  },
  {
   "cell_type": "markdown",
   "metadata": {},
   "source": [
    "# Sanaya profile"
   ]
  },
  {
   "cell_type": "code",
   "execution_count": 247,
   "metadata": {
    "scrolled": true
   },
   "outputs": [],
   "source": [
    "My_writings = open(\"Sanayapoem.txt\")\n",
    "my_writing = My_writings.readlines()\n",
    "#my_writing"
   ]
  },
  {
   "cell_type": "code",
   "execution_count": 248,
   "metadata": {
    "scrolled": true
   },
   "outputs": [
    {
     "data": {
      "text/plain": [
       "11"
      ]
     },
     "execution_count": 248,
     "metadata": {},
     "output_type": "execute_result"
    }
   ],
   "source": [
    "my_posts = my_writing[0].split('|||')\n",
    "len(my_posts)\n",
    "#my_posts"
   ]
  },
  {
   "cell_type": "code",
   "execution_count": 249,
   "metadata": {},
   "outputs": [
    {
     "data": {
      "image/png": "[encoded data removed]",
      "text/plain": [
       "<Figure size 720x504 with 1 Axes>"
      ]
     },
     "metadata": {},
     "output_type": "display_data"
    }
   ],
   "source": [
    "trait = tellmemyMBTI(my_posts,'sanaya')"
   ]
  },
  {
   "cell_type": "markdown",
   "metadata": {},
   "source": [
    "# Valentin Pyataev"
   ]
  },
  {
   "cell_type": "code",
   "execution_count": 250,
   "metadata": {
    "scrolled": true
   },
   "outputs": [],
   "source": [
    "My_writings = open(\"Valentin pyatev.txt\")\n",
    "my_writing = My_writings.readlines()\n",
    "#my_writing"
   ]
  },
  {
   "cell_type": "code",
   "execution_count": 251,
   "metadata": {
    "scrolled": true
   },
   "outputs": [
    {
     "data": {
      "text/plain": [
       "7"
      ]
     },
     "execution_count": 251,
     "metadata": {},
     "output_type": "execute_result"
    }
   ],
   "source": [
    "my_posts = my_writing[0].split('|||')\n",
    "len(my_posts)\n",
    "#my_posts"
   ]
  },
  {
   "cell_type": "code",
   "execution_count": 252,
   "metadata": {},
   "outputs": [
    {
     "data": {
      "image/png": "[encoded data removed]",
      "text/plain": [
       "<Figure size 720x504 with 1 Axes>"
      ]
     },
     "metadata": {},
     "output_type": "display_data"
    }
   ],
   "source": [
    "trait=tellmemyMBTI(my_posts,'Valentin')"
   ]
  },
  {
   "cell_type": "markdown",
   "metadata": {},
   "source": [
    "# MIT gurukul people"
   ]
  },
  {
   "cell_type": "code",
   "execution_count": 253,
   "metadata": {
    "scrolled": true
   },
   "outputs": [
    {
     "data": {
      "text/plain": [
       "1"
      ]
     },
     "execution_count": 253,
     "metadata": {},
     "output_type": "execute_result"
    }
   ],
   "source": [
    "My_writings = open(\"All texts.txt\")\n",
    "my_writing = My_writings.readlines()\n",
    "a =[''];\n",
    "for i in my_writing:\n",
    "    a[0]=a[0]+i\n",
    "len(a)"
   ]
  },
  {
   "cell_type": "code",
   "execution_count": 254,
   "metadata": {
    "scrolled": true
   },
   "outputs": [
    {
     "data": {
      "text/plain": [
       "13"
      ]
     },
     "execution_count": 254,
     "metadata": {},
     "output_type": "execute_result"
    }
   ],
   "source": [
    "my_posts = a[0].split('&&&')\n",
    "len(my_posts)\n",
    "#my_posts"
   ]
  },
  {
   "cell_type": "markdown",
   "metadata": {},
   "source": [
    "Posts for each person"
   ]
  },
  {
   "cell_type": "code",
   "execution_count": 255,
   "metadata": {},
   "outputs": [],
   "source": [
    "alls = [None]*len(my_posts)\n",
    "for i in range(len(my_posts)):\n",
    "    alls[i] = my_posts[i].split('|||') "
   ]
  },
  {
   "cell_type": "markdown",
   "metadata": {},
   "source": [
    "Email ID connection"
   ]
  },
  {
   "cell_type": "code",
   "execution_count": 256,
   "metadata": {},
   "outputs": [],
   "source": [
    "Names = open(\"Names.txt\")\n",
    "names = Names.readlines()\n",
    "#names"
   ]
  },
  {
   "cell_type": "code",
   "execution_count": 257,
   "metadata": {},
   "outputs": [
    {
     "name": "stdout",
     "output_type": "stream",
     "text": [
      "mearnav4\n",
      "amankhemlani12\n",
      "saumyarao2001\n",
      "pariza2008\n",
      "mishthifrooti\n",
      "aahanaagarwal02\n",
      "jahnavishahani01\n",
      "milap99shah\n",
      "arnavkadam44\n",
      "harlalkasanyam\n",
      "refan7401\n",
      "olafdange5\n",
      "raju.rastogi@gmail.com\n"
     ]
    }
   ],
   "source": [
    "for i in range(len(names)):\n",
    "    names[i] = names[i].replace('@gmail.com\\n','')\n",
    "    print(names[i])\n",
    "names[len(names)-1]=names[len(names)-1].replace('@gmail.com','')"
   ]
  },
  {
   "cell_type": "code",
   "execution_count": 258,
   "metadata": {
    "scrolled": true
   },
   "outputs": [
    {
     "data": {
      "image/png": "[encoded data removed]",
      "text/plain": [
       "<Figure size 720x504 with 1 Axes>"
      ]
     },
     "metadata": {},
     "output_type": "display_data"
    },
    {
     "data": {
      "image/png": "[encoded data removed]",
      "text/plain": [
       "<Figure size 720x504 with 1 Axes>"
      ]
     },
     "metadata": {},
     "output_type": "display_data"
    },
    {
     "data": {
      "image/png": "[encoded data removed]",
      "text/plain": [
       "<Figure size 720x504 with 1 Axes>"
      ]
     },
     "metadata": {},
     "output_type": "display_data"
    },
    {
     "data": {
      "image/png": "[encoded data removed]",
      "text/plain": [
       "<Figure size 720x504 with 1 Axes>"
      ]
     },
     "metadata": {},
     "output_type": "display_data"
    },
    {
     "data": {
      "image/png": "[encoded data removed]",
      "text/plain": [
       "<Figure size 720x504 with 1 Axes>"
      ]
     },
     "metadata": {},
     "output_type": "display_data"
    },
    {
     "data": {
      "image/png": "[encoded data removed]",
      "text/plain": [
       "<Figure size 720x504 with 1 Axes>"
      ]
     },
     "metadata": {},
     "output_type": "display_data"
    },
    {
     "data": {
      "image/png": "[encoded data removed]",
      "text/plain": [
       "<Figure size 720x504 with 1 Axes>"
      ]
     },
     "metadata": {},
     "output_type": "display_data"
    },
    {
     "data": {
      "image/png": "[encoded data removed]",
      "text/plain": [
       "<Figure size 720x504 with 1 Axes>"
      ]
     },
     "metadata": {},
     "output_type": "display_data"
    },
    {
     "data": {
      "image/png": "[encoded data removed]",
      "text/plain": [
       "<Figure size 720x504 with 1 Axes>"
      ]
     },
     "metadata": {},
     "output_type": "display_data"
    },
    {
     "data": {
      "image/png": "[encoded data removed]",
      "text/plain": [
       "<Figure size 720x504 with 1 Axes>"
      ]
     },
     "metadata": {},
     "output_type": "display_data"
    },
    {
     "data": {
      "image/png": "[encoded data removed]",
      "text/plain": [
       "<Figure size 720x504 with 1 Axes>"
      ]
     },
     "metadata": {},
     "output_type": "display_data"
    },
    {
     "data": {
      "image/png": "[encoded data removed]",
      "text/plain": [
       "<Figure size 720x504 with 1 Axes>"
      ]
     },
     "metadata": {},
     "output_type": "display_data"
    },
    {
     "data": {
      "image/png": "[encoded data removed]",
      "text/plain": [
       "<Figure size 720x504 with 1 Axes>"
      ]
     },
     "metadata": {},
     "output_type": "display_data"
    }
   ],
   "source": [
    "for i in range(len(alls)):\n",
    "    trait=tellmemyMBTI(alls[i],names[i])"
   ]
  },
  {
   "cell_type": "code",
   "execution_count": 260,
   "metadata": {},
   "outputs": [
    {
     "data": {
      "text/plain": [
       "['INFJ',\n",
       " 'INTP',\n",
       " 'INTP',\n",
       " 'ENTJ',\n",
       " 'INFP',\n",
       " 'INTJ',\n",
       " 'INFJ',\n",
       " 'INTFP',\n",
       " 'INFJ',\n",
       " 'INTJP',\n",
       " 'INTJ',\n",
       " 'INTJ',\n",
       " 'ENTJ',\n",
       " 'ISFJ',\n",
       " 'ENFP',\n",
       " 'INTP']"
      ]
     },
     "execution_count": 260,
     "metadata": {},
     "output_type": "execute_result"
    }
   ],
   "source": [
    "trait"
   ]
  },
  {
   "cell_type": "code",
   "execution_count": null,
   "metadata": {},
   "outputs": [],
   "source": []
  }
 ],
 "metadata": {
  "kernelspec": {
   "display_name": "Python 3",
   "language": "python",
   "name": "python3"
  },
  "language_info": {
   "codemirror_mode": {
    "name": "ipython",
    "version": 3
   },
   "file_extension": ".py",
   "mimetype": "text/x-python",
   "name": "python",
   "nbconvert_exporter": "python",
   "pygments_lexer": "ipython3",
   "version": "3.6.5"
  }
 },
 "nbformat": 4,
 "nbformat_minor": 2
}
